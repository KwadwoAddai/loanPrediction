{
 "cells": [
  {
   "cell_type": "code",
   "execution_count": 1,
   "id": "7fd71570",
   "metadata": {},
   "outputs": [
    {
     "data": {
      "text/plain": [
       "0.8083333333333333"
      ]
     },
     "execution_count": 1,
     "metadata": {},
     "output_type": "execute_result"
    },
    {
     "data": {
      "image/png": "[encoded data removed]",
      "text/plain": [
       "<Figure size 640x480 with 1 Axes>"
      ]
     },
     "metadata": {},
     "output_type": "display_data"
    }
   ],
   "source": [
    "import pandas as pd\n",
    "import seaborn as sns\n",
    "from sklearn import svm\n",
    "from sklearn.model_selection import train_test_split\n",
    "from sklearn.metrics import accuracy_score\n",
    "\n",
    "#READ DATASET\n",
    "dataset = pd.read_csv('loan_data.csv')\n",
    "\n",
    "#FIRST VIEW THE FIRST FIVE DATA\n",
    "dataset.head()\n",
    "\n",
    "#SEE THE ROWS AND COLUMNS\n",
    "dataset.shape\n",
    "\n",
    "#SHOWS THE COUNT OF EMPTY COLUMNS\n",
    "dataset.describe()\n",
    "\n",
    "#FIND WHICH COLUMNS HAVE NULL VALUES\n",
    "dataset.isnull().sum()\n",
    "\n",
    "\n",
    "#DROP ALL COLUMNS WITH NULL VALUES AND VIEW\n",
    "dataset = dataset.dropna()\n",
    "dataset.isnull().sum()\n",
    "\n",
    "\n",
    "#CHANGE DATA TO BINARY\n",
    "dataset.replace({\"Loan_Status\":{'N':0,'Y':1}}, inplace=True)\n",
    "\n",
    "\n",
    "#VIEW DATA\n",
    "dataset.head()\n",
    "\n",
    "\n",
    "#COUNT THE VALUE OF THE DEPENDENTS COLUMN\n",
    "dataset['Dependents'].value_counts()\n",
    "\n",
    "\n",
    "#REPLACING VALUES OF THE DEPENDENTS\n",
    "dataset.replace({\"Dependents\":{'3+':4}}, inplace=True)\n",
    "\n",
    "\n",
    "dataset['Dependents'].value_counts()\n",
    "\n",
    "\n",
    "#PLOT A GRAPH WITH EDUCATION ON X-AXIS HUE AS THE LEGEND\n",
    "sns.countplot(x='Education',hue='Loan_Status',data=dataset)\n",
    "\n",
    "\n",
    "#REPLACING/RESTRUCTURING THE DATA TO BINARY\n",
    "dataset.replace({\"Married\":{'No':0,'Yes':1}, \"Gender\":{'Male':1,'Female':0},\"Self_Employed\":{'Yes':1,'No':0},\"Property_Area\":{'Rural':0,'Semiurban':1,'Urban':2},\"Education\":{'Graduate':1,'Not Graduate':0}}, inplace=True)\n",
    "\n",
    " \n",
    "\n",
    "#VIEW THE DATA\n",
    "dataset.head()\n",
    "\n",
    "#SPLITTING DATA INTO TWO VARIABLES.\n",
    "x=dataset.drop(columns=['Loan_ID','Loan_Status'],axis=1)\n",
    "\n",
    "y=dataset['Loan_Status']\n",
    "dataset.head()\n",
    "\n",
    "x_train,x_test,y_train,y_test=train_test_split(x,y,stratify=y,random_state=2)\n",
    "\n",
    "#USING THE SVM ALGORITHM\n",
    "model = svm.SVC(kernel='linear')\n",
    "\n",
    "#TRAIN THE MODEL\n",
    "model.fit(x_train,y_train)\n",
    "\n",
    "x_test_prediction = model.predict(x_test)\n",
    "\n",
    "accuracy_test = accuracy_score(x_test_prediction,y_test)\n",
    "\n",
    "accuracy_test"
   ]
  },
  {
   "cell_type": "code",
   "execution_count": 2,
   "id": "0b079365",
   "metadata": {},
   "outputs": [],
   "source": [
    "input_data=(1,1,4,1,0,9504,0,275,360,1,0)\n",
    "import numpy as np\n",
    "input_data_as_numpy=np.asarray(input_data)\n"
   ]
  },
  {
   "cell_type": "code",
   "execution_count": 3,
   "id": "d7995a0e",
   "metadata": {},
   "outputs": [
    {
     "name": "stdout",
     "output_type": "stream",
     "text": [
      "You are granted loan\n"
     ]
    },
    {
     "name": "stderr",
     "output_type": "stream",
     "text": [
      "C:\\Users\\Pokua\\anaconda3\\Lib\\site-packages\\sklearn\\base.py:464: UserWarning: X does not have valid feature names, but SVC was fitted with feature names\n",
      "  warnings.warn(\n"
     ]
    }
   ],
   "source": [
    "input_data_reshaped=input_data_as_numpy.reshape(1,-1)\n",
    "prediction = model.predict(input_data_reshaped)\n",
    "if(prediction[0]==0):\n",
    "    print('You are denied loan')\n",
    "else:\n",
    "    print('You are granted loan')"
   ]
  },
  {
   "cell_type": "code",
   "execution_count": null,
   "id": "dc2286a7",
   "metadata": {},
   "outputs": [],
   "source": [
    "#SAVING THE NEW DATASET FILE\n",
    "# import pickle\n",
    "# trained_data= \"dataset.pkl\"\n",
    "\n",
    "# with open(trained_data, 'wb') as file:  \n",
    "#     pickle.dump(model, file)\n",
    "\n",
    "import pickle\n",
    "trained_data = 'model.sav'\n",
    "pickle.dump(model,open(trained_data,'wb'))"
   ]
  },
  {
   "cell_type": "code",
   "execution_count": null,
   "id": "e48c24e6",
   "metadata": {},
   "outputs": [],
   "source": [
    "\n"
   ]
  }
 ],
 "metadata": {
  "kernelspec": {
   "display_name": "Python 3 (ipykernel)",
   "language": "python",
   "name": "python3"
  },
  "language_info": {
   "codemirror_mode": {
    "name": "ipython",
    "version": 3
   },
   "file_extension": ".py",
   "mimetype": "text/x-python",
   "name": "python",
   "nbconvert_exporter": "python",
   "pygments_lexer": "ipython3",
   "version": "3.11.4"
  }
 },
 "nbformat": 4,
 "nbformat_minor": 5
}
